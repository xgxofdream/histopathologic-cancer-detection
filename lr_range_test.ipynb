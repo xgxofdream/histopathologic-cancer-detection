{
 "cells": [
  {
   "cell_type": "markdown",
   "metadata": {},
   "source": [
    "- Resnet-50\n",
    "- one-cycle lr range test"
   ]
  },
  {
   "cell_type": "code",
   "execution_count": 1,
   "metadata": {},
   "outputs": [],
   "source": [
    "# ! pip install pretrainedmodels"
   ]
  },
  {
   "cell_type": "code",
   "execution_count": 2,
   "metadata": {
    "_cell_guid": "b1076dfc-b9ad-4769-8c92-a6c4dae69d19",
    "_uuid": "8f2839f25d086af736a60e9eeb907d3b93b6e0e5"
   },
   "outputs": [],
   "source": [
    "import os, time, json, re, copy\n",
    "import itertools, argparse, pickle, random\n",
    "\n",
    "import numpy as np\n",
    "import pandas as pd\n",
    "from PIL import Image\n",
    "\n",
    "# import fastai\n",
    "# from fastai.train import Learner, DataBunch\n",
    "# from fastai.vision import ImageList, get_transforms, cnn_learner, imagenet_stats\n",
    "# from fastai.callbacks import *\n",
    "# from fastai.metrics import error_rate, accuracy\n",
    "\n",
    "import torch\n",
    "import torch.nn as nn\n",
    "import torch.nn.functional as F\n",
    "from torch.utils.data import Dataset, DataLoader\n",
    "\n",
    "import torchvision\n",
    "import torchvision.transforms as T\n",
    "from torchvision import models\n",
    "# import pretrainedmodels\n",
    "\n",
    "from sklearn.metrics import roc_auc_score\n",
    "from sklearn.model_selection import KFold, StratifiedKFold\n",
    "\n",
    "import matplotlib\n",
    "import matplotlib.pyplot as plt\n",
    "import seaborn as sns\n",
    "\n",
    "from tqdm import tqdm, tqdm_notebook\n",
    "import fastprogress\n",
    "from fastprogress import force_console_behavior\n",
    "from IPython.core.interactiveshell import InteractiveShell\n",
    "InteractiveShell.ast_node_interactivity = \"all\"\n",
    "import warnings\n",
    "warnings.filterwarnings(action='once')\n",
    "\n",
    "%reload_ext autoreload\n",
    "%autoreload 2\n",
    "%matplotlib inline"
   ]
  },
  {
   "cell_type": "code",
   "execution_count": 3,
   "metadata": {},
   "outputs": [],
   "source": [
    "def is_interactive():\n",
    "   return 'SHLVL' not in os.environ\n",
    "\n",
    "if not is_interactive():\n",
    "    def nop(it, *a, **k):\n",
    "        return it\n",
    "\n",
    "    tqdm = nop\n",
    "    tqdm_notebook = nop\n",
    "    fastprogress.fastprogress.NO_BAR = True\n",
    "    master_bar, progress_bar = force_console_behavior()\n",
    "#     fastai.basic_train.master_bar, fastai.basic_train.progress_bar = master_bar, progress_bar"
   ]
  },
  {
   "cell_type": "code",
   "execution_count": 4,
   "metadata": {
    "_cell_guid": "79c7e3d0-c299-4dcb-8224-4455121ee9b0",
    "_uuid": "d629ff2d2480ee46fbb7e2d37f6b5fab8052498a"
   },
   "outputs": [],
   "source": [
    "device = torch.device('cuda')\n",
    "SEED = 2019\n",
    "path = '/kaggle/input/'\n",
    "output_path = '/kaggle/working'\n",
    "\n",
    "n_splits = 5\n",
    "batch_size = 128\n",
    "img_size = 196\n",
    "lr = 1e-3\n",
    "epochs = 4"
   ]
  },
  {
   "cell_type": "markdown",
   "metadata": {},
   "source": [
    "### Data"
   ]
  },
  {
   "cell_type": "code",
   "execution_count": 5,
   "metadata": {},
   "outputs": [],
   "source": [
    "def load_meta_data():\n",
    "    return pd.read_csv(path+'train_labels.csv')\n",
    "\n",
    "def train_val_split(train_df):\n",
    "    kf = StratifiedKFold(n_splits=n_splits, shuffle=True, random_state=SEED)\n",
    "    cv_indices = [(tr_idx, val_idx) for tr_idx, val_idx in kf.split(train_df['id'], train_df['label'])]\n",
    "    return cv_indices"
   ]
  },
  {
   "cell_type": "code",
   "execution_count": 6,
   "metadata": {},
   "outputs": [],
   "source": [
    "# load meta data\n",
    "train_df = load_meta_data()\n",
    "\n",
    "nb_train = train_df.shape[0]  # 220025\n",
    "nb_test = len(os.listdir(path+'test'))  # 57458\n",
    "\n",
    "cv_indices = train_val_split(train_df)"
   ]
  },
  {
   "cell_type": "code",
   "execution_count": 7,
   "metadata": {},
   "outputs": [],
   "source": [
    "rgb_mean = [0.485, 0.456, 0.406]\n",
    "rgb_std = [0.229, 0.224, 0.225]\n",
    "\n",
    "tsfm_aug = T.Compose([\n",
    "                    T.Resize((img_size, img_size)),\n",
    "                    T.ColorJitter(brightness=0.15, contrast=0.15, saturation=0.15, hue=0.1),\n",
    "                    T.RandomHorizontalFlip(),\n",
    "                    T.RandomVerticalFlip(),\n",
    "                    T.RandomAffine(degrees=10, shear=10),\n",
    "                    T.ToTensor(),\n",
    "                    T.Normalize(rgb_mean, rgb_std),\n",
    "                ])\n",
    "\n",
    "tsfm_normal = T.Compose([\n",
    "            T.Resize((img_size, img_size)),\n",
    "            T.ToTensor(),\n",
    "            T.Normalize(rgb_mean, rgb_std),\n",
    "        ])\n",
    "\n",
    "class HCDDataset(Dataset):\n",
    "\n",
    "    def __init__(self, path, indices=None, df=None, label_smooth=0, tta=False):\n",
    "        \"\"\"\n",
    "        :param path: path where data files are stored\n",
    "        :param split: split, one of 'TRAIN', 'VALID', or 'TEST'\n",
    "        \"\"\"\n",
    "        self.path = path\n",
    "        if df is not None:\n",
    "            self.files = df['id'][indices].tolist()\n",
    "            self.targets = df['label'][indices].values[:,None]\n",
    "            if label_smooth>0:\n",
    "                self.targets = np.fromiter(\n",
    "                    [1-label_smooth if y==1 else label_smooth for y in self.targets], dtype=np.float32)[:,None]\n",
    "        else:\n",
    "            self.files = os.listdir(path+'test')\n",
    "            self.targets = None\n",
    "            self.tta = tta\n",
    "\n",
    "    def __getitem__(self, index):\n",
    "        if self.targets is not None:\n",
    "            image = Image.open(self.path+'train/'+self.files[index]+'.tif', mode='r')\n",
    "            image = image.convert('RGB')\n",
    "            transform = tsfm_aug\n",
    "            return transform(image), torch.FloatTensor(self.targets[index])\n",
    "        else:\n",
    "            image = Image.open(self.path+'test/'+self.files[index]+'.tif', mode='r')\n",
    "            image = image.convert('RGB')\n",
    "            if not self.tta:\n",
    "                transform = tsfm_normal\n",
    "            else:\n",
    "                transform = tsfm_aug\n",
    "            return transform(image)\n",
    "\n",
    "    def __len__(self):\n",
    "        return len(self.files)"
   ]
  },
  {
   "cell_type": "markdown",
   "metadata": {},
   "source": [
    "### Model and evaluation metrics"
   ]
  },
  {
   "cell_type": "code",
   "execution_count": 8,
   "metadata": {},
   "outputs": [],
   "source": [
    "class Flatten(nn.Module):\n",
    "    def forward(self, x): return x.view(x.size(0), -1)\n",
    "\n",
    "class AdaptiveConcatPool2d(nn.Module):\n",
    "    \"Layer that concats `AdaptiveAvgPool2d` and `AdaptiveMaxPool2d`,\"\n",
    "    \"a module from fastai v3.\"\n",
    "    def __init__(self, output_size=None):\n",
    "        \"Output will be 2*output_size or 2 if output_size is None\"\n",
    "        super().__init__()\n",
    "        self.output_size = output_size or 1\n",
    "        self.ap = nn.AdaptiveAvgPool2d(self.output_size)\n",
    "        self.mp = nn.AdaptiveMaxPool2d(self.output_size)\n",
    "    def forward(self, x): return torch.cat([self.mp(x), self.ap(x)], 1)\n",
    "\n",
    "class ImgClassifier(nn.Module):\n",
    "    def __init__(self, final_fmaps, out_dim):\n",
    "        super(ImgClassifier, self).__init__()\n",
    "        self.adapt_pool = AdaptiveConcatPool2d((1,1))\n",
    "        self.flatten = Flatten()\n",
    "        self.fc = nn.Linear(final_fmaps*2, out_dim)\n",
    "\n",
    "    def forward(self, x):\n",
    "        x = self.adapt_pool(x)\n",
    "        x = self.flatten(x)\n",
    "        return self.fc(x)\n",
    "\n",
    "# class ImgClassifier(nn.Module):\n",
    "#     def __init__(self, final_fmaps, out_dim):\n",
    "#         super(ImgClassifier, self).__init__()\n",
    "#         self.adapt_pool = AdaptiveConcatPool2d((1,1))\n",
    "#         self.flatten = Flatten()\n",
    "#         self.dropouts = nn.ModuleList([nn.Dropout(0.1) for _ in range(5)])\n",
    "#         self.fc = nn.Linear(final_fmaps*2, out_dim)\n",
    "#         nn.init.xavier_uniform_(self.fc.weight)\n",
    "#         nn.init.constant_(self.fc.bias, 0.)\n",
    "\n",
    "#     def forward(self, x):\n",
    "#         x = self.adapt_pool(x)\n",
    "#         pooled_output = self.flatten(x)\n",
    "#         for i, dropout in enumerate(self.dropouts):\n",
    "#             if i == 0:\n",
    "#                 out = self.fc(dropout(pooled_output))\n",
    "#             else:\n",
    "#                 out += self.fc(dropout(pooled_output))\n",
    "#         return out / len(self.dropouts)\n",
    "\n",
    "class HCDNet(nn.Module):\n",
    "    def __init__(self, net):\n",
    "        super(HCDNet, self).__init__()\n",
    "        net_lyrs = [c for n,c in net.named_children()]\n",
    "        self.backbone = nn.Sequential(*net_lyrs[:-2])\n",
    "        self.classifier = ImgClassifier(net_lyrs[-1].in_features, 1)\n",
    "\n",
    "    def forward(self, x):\n",
    "        x = self.backbone(x)\n",
    "        out = self.classifier(x)\n",
    "        return out"
   ]
  },
  {
   "cell_type": "code",
   "execution_count": 9,
   "metadata": {},
   "outputs": [
    {
     "name": "stderr",
     "output_type": "stream",
     "text": [
      "Downloading: \"https://download.pytorch.org/models/resnet50-19c8e357.pth\" to /tmp/.cache/torch/checkpoints/resnet50-19c8e357.pth\n",
      "100%|██████████| 97.8M/97.8M [00:00<00:00, 131MB/s]\n"
     ]
    }
   ],
   "source": [
    "pretrained_net = models.resnet50(pretrained=True)\n",
    "# pretrained_net = pretrainedmodels.models.resnet50(num_classes=1000, pretrained='imagenet')\n",
    "# pretrained_net = pretrainedmodels.models.se_resnet50(num_classes=1000, pretrained='imagenet')"
   ]
  },
  {
   "cell_type": "markdown",
   "metadata": {},
   "source": [
    "### Learning rate range test"
   ]
  },
  {
   "cell_type": "code",
   "execution_count": 10,
   "metadata": {},
   "outputs": [],
   "source": [
    "# trn_idx, val_idx = cv_indices[0]\n",
    "\n",
    "# src = (ImageList.from_df(df=train_df, path=path, folder='train', suffix='.tif')\n",
    "#        .split_by_idxs(trn_idx, val_idx)\n",
    "#        .label_from_df(cols='label'))\n",
    "\n",
    "# data = (src.transform(tfms=get_transforms(flip_vert=True), size=img_size)\n",
    "#         .add_test_folder('test')\n",
    "#         .databunch(bs=batch_size).normalize(imagenet_stats))"
   ]
  },
  {
   "cell_type": "code",
   "execution_count": 11,
   "metadata": {},
   "outputs": [],
   "source": [
    "# learn = cnn_learner(data, models.resnet50, loss_func=nn.CrossEntropyLoss(),\n",
    "#                     metrics=[AUROC()], model_dir=output_path)"
   ]
  },
  {
   "cell_type": "code",
   "execution_count": 12,
   "metadata": {},
   "outputs": [],
   "source": [
    "# %%time\n",
    "# learn.freeze()\n",
    "# learn.lr_find()"
   ]
  },
  {
   "cell_type": "code",
   "execution_count": 13,
   "metadata": {},
   "outputs": [],
   "source": [
    "# %%time\n",
    "# learn.unfreeze()\n",
    "# learn.lr_find()"
   ]
  },
  {
   "cell_type": "code",
   "execution_count": 14,
   "metadata": {},
   "outputs": [],
   "source": [
    "# learn.recorder.plot()"
   ]
  },
  {
   "cell_type": "code",
   "execution_count": 15,
   "metadata": {},
   "outputs": [],
   "source": [
    "def lr_range_test(train_loader, model, optimizer, start_lr=1e-7, end_lr=10, num_it=100, stop_div=True):\n",
    "    epochs = int(np.ceil(num_it/len(train_loader)))\n",
    "    n_groups = len(optimizer.param_groups)\n",
    "\n",
    "    if isinstance(start_lr, list) or isinstance(start_lr, tuple):\n",
    "        if len(start_lr) != n_groups:\n",
    "            raise ValueError(\"expected {} max_lr, got {}\".format(n_groups, len(start_lr)))\n",
    "        start_lrs = list(start_lr)\n",
    "    else:\n",
    "        start_lrs = [start_lr] * n_groups\n",
    "    \n",
    "    if isinstance(end_lr, list) or isinstance(end_lr, tuple):\n",
    "        if len(end_lr) != n_groups:\n",
    "            raise ValueError(\"expected {} max_lr, got {}\".format(n_groups, len(end_lr)))\n",
    "        end_lrs = list(end_lr)\n",
    "    else:\n",
    "        end_lrs = [end_lr] * n_groups\n",
    "\n",
    "    curr_lrs = start_lrs*1\n",
    "    for param_group, lr in zip(optimizer.param_groups, curr_lrs):\n",
    "        param_group['lr'] = lr\n",
    "\n",
    "    n, lrs_logs, loss_log = 0, [], []\n",
    "\n",
    "    for e in range(epochs):\n",
    "        model.train()\n",
    "        for x, y in train_loader:\n",
    "            x = x.to(device)\n",
    "            y = y.to(device)\n",
    "\n",
    "            scores = model(x)\n",
    "            loss = nn.BCEWithLogitsLoss()(scores, y)\n",
    "            optimizer.zero_grad()\n",
    "            loss.backward()\n",
    "            optimizer.step()\n",
    "\n",
    "            lrs_logs.append(curr_lrs)\n",
    "            loss_log.append(loss.item())\n",
    "\n",
    "            # update best loss\n",
    "            if n == 0:\n",
    "                best_loss, n_best = loss.item(), n\n",
    "            else:\n",
    "                if loss.item() < best_loss:\n",
    "                    best_loss, n_best = loss.item(), n\n",
    "\n",
    "            # update lr per iter\n",
    "            n += 1\n",
    "            curr_lrs = [lr * (end_lr/lr) ** (n/num_it) for lr, end_lr in zip(start_lrs, end_lrs)]\n",
    "            for param_group, lr in zip(optimizer.param_groups, curr_lrs):\n",
    "                param_group['lr'] = lr\n",
    "\n",
    "            # stopping condition\n",
    "            if n == num_it or (stop_div and (loss.item() > 4*best_loss or torch.isnan(loss))):\n",
    "                break\n",
    "\n",
    "    print('minimum loss {}, at lr {}'.format(best_loss, lrs_logs[n_best]))\n",
    "    return lrs_logs, loss_log"
   ]
  },
  {
   "cell_type": "code",
   "execution_count": 16,
   "metadata": {},
   "outputs": [],
   "source": [
    "# first layers split\n",
    "def model_optimizer_init():\n",
    "    model = HCDNet(copy.deepcopy(pretrained_net))\n",
    "\n",
    "    params_backbone = [p for p in model.backbone.parameters()]\n",
    "    params_cls = [p for p in model.classifier.parameters()]\n",
    "\n",
    "    optimizer = torch.optim.Adam(params=[{'params': params_backbone}])\n",
    "    optimizer.add_param_group({'params':params_cls})\n",
    "\n",
    "    return model, optimizer"
   ]
  },
  {
   "cell_type": "code",
   "execution_count": 17,
   "metadata": {},
   "outputs": [],
   "source": [
    "train_dataset = HCDDataset(path, cv_indices[0][0], train_df)\n",
    "train_loader = DataLoader(train_dataset, batch_size=batch_size, shuffle=True)"
   ]
  },
  {
   "cell_type": "code",
   "execution_count": 18,
   "metadata": {},
   "outputs": [
    {
     "name": "stdout",
     "output_type": "stream",
     "text": [
      "minimum loss 0.35198819637298584, at lr [0.0001, 0.001]\n",
      "CPU times: user 1min 5s, sys: 28.1 s, total: 1min 33s\n",
      "Wall time: 4min 42s\n"
     ]
    }
   ],
   "source": [
    "%%time\n",
    "model, optimizer = model_optimizer_init()\n",
    "lrs_logs, loss_log = lr_range_test(train_loader, model.to(device), optimizer, start_lr=(1e-8,1e-7), end_lr=(1,10))\n",
    "lrs_logs = list(zip(*lrs_logs))"
   ]
  },
  {
   "cell_type": "code",
   "execution_count": 19,
   "metadata": {},
   "outputs": [
    {
     "data": {
      "image/png": "[encoded data removed]",
      "text/plain": [
       "<Figure size 576x360 with 1 Axes>"
      ]
     },
     "metadata": {
      "needs_background": "light"
     },
     "output_type": "display_data"
    }
   ],
   "source": [
    "fig = plt.figure(figsize=(8,5))\n",
    "ax = fig.add_subplot(1,1,1)\n",
    "ax.plot(lrs_logs[-1][10:-3], loss_log[10:-3])\n",
    "ax.set_xscale('log')\n",
    "ax.set_xlabel('Learning rate')\n",
    "ax.set_ylabel('Loss');"
   ]
  },
  {
   "cell_type": "code",
   "execution_count": 20,
   "metadata": {},
   "outputs": [],
   "source": [
    "# second layers split\n",
    "class HCDNet(nn.Module):\n",
    "    def __init__(self, net):\n",
    "        super(HCDNet, self).__init__()\n",
    "        net_lyrs = [c for n,c in net.named_children()]\n",
    "        self.backbone1 = nn.Sequential(*net_lyrs[:5])\n",
    "        self.backbone2 = nn.Sequential(*net_lyrs[5:-2])\n",
    "        self.classifier = ImgClassifier(net_lyrs[-1].in_features, 1)\n",
    "\n",
    "    def forward(self, x):\n",
    "        x = self.backbone1(x)\n",
    "        x = self.backbone2(x)\n",
    "        out = self.classifier(x)\n",
    "        return out\n",
    "\n",
    "def model_optimizer_init():\n",
    "    model = HCDNet(copy.deepcopy(pretrained_net))\n",
    "\n",
    "    params_backbone1 = [p for p in model.backbone1.parameters()]\n",
    "    params_backbone2 = [p for p in model.backbone2.parameters()]\n",
    "    params_cls = [p for p in model.classifier.parameters()]\n",
    "\n",
    "    optimizer = torch.optim.Adam(params=[{'params': params_backbone1}])\n",
    "    optimizer.add_param_group({'params': params_backbone2})\n",
    "    optimizer.add_param_group({'params':params_cls})\n",
    "\n",
    "    return model, optimizer"
   ]
  },
  {
   "cell_type": "code",
   "execution_count": 21,
   "metadata": {},
   "outputs": [
    {
     "name": "stdout",
     "output_type": "stream",
     "text": [
      "minimum loss 0.30605214834213257, at lr [1.7378008287493764e-05, 0.00017378008287493763, 0.001737800828749376]\n",
      "CPU times: user 1min 10s, sys: 28.7 s, total: 1min 39s\n",
      "Wall time: 5min 53s\n"
     ]
    }
   ],
   "source": [
    "%%time\n",
    "model, optimizer = model_optimizer_init()\n",
    "lrs_logs, loss_log = lr_range_test(train_loader, model.to(device), optimizer, start_lr=(1e-9,1e-8,1e-7), end_lr=(0.1,1,10))\n",
    "lrs_logs = list(zip(*lrs_logs))"
   ]
  },
  {
   "cell_type": "code",
   "execution_count": 22,
   "metadata": {},
   "outputs": [
    {
     "data": {
      "image/png": "[encoded data removed]",
      "text/plain": [
       "<Figure size 576x360 with 1 Axes>"
      ]
     },
     "metadata": {
      "needs_background": "light"
     },
     "output_type": "display_data"
    }
   ],
   "source": [
    "fig = plt.figure(figsize=(8,5))\n",
    "ax = fig.add_subplot(1,1,1)\n",
    "ax.plot(lrs_logs[-1][10:-3], loss_log[10:-3])\n",
    "ax.set_xscale('log')\n",
    "ax.set_xlabel('Learning rate')\n",
    "ax.set_ylabel('Loss');"
   ]
  },
  {
   "cell_type": "code",
   "execution_count": null,
   "metadata": {},
   "outputs": [],
   "source": []
  }
 ],
 "metadata": {
  "kernelspec": {
   "display_name": "Python 3",
   "language": "python",
   "name": "python3"
  },
  "language_info": {
   "codemirror_mode": {
    "name": "ipython",
    "version": 3
   },
   "file_extension": ".py",
   "mimetype": "text/x-python",
   "name": "python",
   "nbconvert_exporter": "python",
   "pygments_lexer": "ipython3",
   "version": "3.6.6"
  }
 },
 "nbformat": 4,
 "nbformat_minor": 1
}
